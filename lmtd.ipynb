{
 "cells": [
  {
   "cell_type": "code",
   "execution_count": 2,
   "metadata": {},
   "outputs": [],
   "source": [
    "import sympy"
   ]
  },
  {
   "cell_type": "code",
   "execution_count": 3,
   "metadata": {},
   "outputs": [],
   "source": [
    "x, m1, m2, cp1, cp2, U, A, l, T10, T2l = sympy.symbols(\n",
    "    r\"x \\dot{m}_1 \\dot{m}_2 c_p\\,1 c_p\\,2 U A l T_{1\\,0} T_{2\\,l}\"\n",
    ")\n",
    "\n",
    "T1, T2, DT = sympy.symbols(r\"T_1 T_2 \\Delta\\ T\", cls=sympy.Function)\n",
    "\n",
    "dT1 = T1(x).diff(x)\n",
    "dT2 = T2(x).diff(x)\n",
    "dDT = DT(x).diff(x)\n"
   ]
  },
  {
   "attachments": {},
   "cell_type": "markdown",
   "metadata": {},
   "source": [
    "We're dealing with an open system and are looking for a stationary solution. Assuming $T_2$ has its inlet at $x=l$, $T_1$ its inlet at $x=0$ and $T_2(x) > T_1(x)$ everywhere we have:"
   ]
  },
  {
   "cell_type": "code",
   "execution_count": 4,
   "metadata": {},
   "outputs": [
    {
     "data": {
      "text/latex": [
       "$\\displaystyle \\dot{m}_1 c_{p,1} \\left. \\frac{d}{d \\xi_{1}} T_{1}{\\left(\\xi_{1} \\right)} \\right|_{\\substack{ \\xi_{1}=x }} - \\dot{m}_2 c_{p,2} \\left. \\frac{d}{d \\xi_{1}} T_{2}{\\left(\\xi_{1} \\right)} \\right|_{\\substack{ \\xi_{1}=x }}$"
      ],
      "text/plain": [
       "\\dot{m}_1*c_p,1*Subs(Derivative(T_1(_xi_1), _xi_1), _xi_1, x) - \\dot{m}_2*c_p,2*Subs(Derivative(T_2(_xi_1), _xi_1), _xi_1, x)"
      ]
     },
     "execution_count": 4,
     "metadata": {},
     "output_type": "execute_result"
    }
   ],
   "source": [
    "dx = sympy.symbols(r\"\\mathrm{d}x\")\n",
    "\n",
    "sympy.limit(m1*cp1*(T1(x + dx) - T1(x))/dx + m2*cp2*(T2(x - dx) - T2(x))/dx, dx, 0)"
   ]
  },
  {
   "cell_type": "code",
   "execution_count": 5,
   "metadata": {},
   "outputs": [
    {
     "data": {
      "text/latex": [
       "$\\displaystyle \\dot{m}_1 c_{p,1} \\frac{d}{d x} T_{1}{\\left(x \\right)} = \\frac{A U \\left(- T_{1}{\\left(x \\right)} + T_{2}{\\left(x \\right)}\\right)}{l}$"
      ],
      "text/plain": [
       "Eq(\\dot{m}_1*c_p,1*Derivative(T_1(x), x), A*U*(-T_1(x) + T_2(x))/l)"
      ]
     },
     "metadata": {},
     "output_type": "display_data"
    },
    {
     "data": {
      "text/latex": [
       "$\\displaystyle - \\frac{A U \\left(- T_{1}{\\left(x \\right)} + T_{2}{\\left(x \\right)}\\right)}{l} = \\dot{m}_2 c_{p,2} \\frac{d}{d x} T_{2}{\\left(x \\right)}$"
      ],
      "text/plain": [
       "Eq(-A*U*(-T_1(x) + T_2(x))/l, \\dot{m}_2*c_p,2*Derivative(T_2(x), x))"
      ]
     },
     "metadata": {},
     "output_type": "display_data"
    }
   ],
   "source": [
    "du1 = m1*cp1*dT1\n",
    "du2 = m2*cp2*dT2\n",
    "dq = U*(A/l)*(T2(x)-T1(x))\n",
    "\n",
    "en_eq1 = sympy.Eq(du1, dq)\n",
    "en_eq2 = sympy.Eq(-dq, du2)\n",
    "\n",
    "display(en_eq1, en_eq2)"
   ]
  },
  {
   "attachments": {},
   "cell_type": "markdown",
   "metadata": {},
   "source": [
    "With boundary conditions"
   ]
  },
  {
   "cell_type": "code",
   "execution_count": 6,
   "metadata": {},
   "outputs": [
    {
     "data": {
      "text/latex": [
       "$\\displaystyle T_{1}{\\left(0 \\right)} = T_{1,0}$"
      ],
      "text/plain": [
       "Eq(T_1(0), T_{1,0})"
      ]
     },
     "metadata": {},
     "output_type": "display_data"
    },
    {
     "data": {
      "text/latex": [
       "$\\displaystyle T_{2}{\\left(l \\right)} = T_{2,l}$"
      ],
      "text/plain": [
       "Eq(T_2(l), T_{2,l})"
      ]
     },
     "metadata": {},
     "output_type": "display_data"
    }
   ],
   "source": [
    "bc1_eq = sympy.Eq(T1(0), T10)\n",
    "bc2_eq = sympy.Eq(T2(l), T2l)\n",
    "display(bc1_eq, bc2_eq)\n"
   ]
  },
  {
   "cell_type": "code",
   "execution_count": 21,
   "metadata": {},
   "outputs": [
    {
     "data": {
      "text/latex": [
       "$\\displaystyle T_{1}{\\left(x \\right)} = \\frac{\\left(\\dot{m}_1 c_{p,1} + \\dot{m}_2 c_{p,2} e^{\\frac{A U \\left(\\dot{m}_1 c_{p,1} + \\dot{m}_2 c_{p,2}\\right)}{\\dot{m}_1 \\dot{m}_2 c_{p,1} c_{p,2}}}\\right) \\left(\\dot{m}_2 c_{p,2} \\left(T_{1,0} - T_{2,l}\\right) e^{\\frac{A U \\left(\\dot{m}_1 c_{p,1} + \\dot{m}_2 c_{p,2}\\right)}{\\dot{m}_1 \\dot{m}_2 c_{p,1} c_{p,2}}} + \\left(T_{1,0} \\dot{m}_1 c_{p,1} + T_{2,l} \\dot{m}_2 c_{p,2} e^{\\frac{A U \\left(\\dot{m}_1 c_{p,1} + \\dot{m}_2 c_{p,2}\\right)}{\\dot{m}_1 \\dot{m}_2 c_{p,1} c_{p,2}}}\\right) e^{\\frac{A U x \\left(\\dot{m}_1 c_{p,1} + \\dot{m}_2 c_{p,2}\\right)}{\\dot{m}_1 \\dot{m}_2 c_{p,1} c_{p,2} l}}\\right) e^{- \\frac{A U x \\left(\\dot{m}_1 c_{p,1} + \\dot{m}_2 c_{p,2}\\right)}{\\dot{m}_1 \\dot{m}_2 c_{p,1} c_{p,2} l}}}{\\left(\\dot{m}_1 c_{p,1} + \\dot{m}_2 c_{p,2} e^{\\frac{A U}{\\dot{m}_2 c_{p,2}} + \\frac{A U}{\\dot{m}_1 c_{p,1}}}\\right)^{2}}$"
      ],
      "text/plain": [
       "Eq(T_1(x), (\\dot{m}_1*c_p,1 + \\dot{m}_2*c_p,2*exp(A*U*(\\dot{m}_1*c_p,1 + \\dot{m}_2*c_p,2)/(\\dot{m}_1*\\dot{m}_2*c_p,1*c_p,2)))*(\\dot{m}_2*c_p,2*(T_{1,0} - T_{2,l})*exp(A*U*(\\dot{m}_1*c_p,1 + \\dot{m}_2*c_p,2)/(\\dot{m}_1*\\dot{m}_2*c_p,1*c_p,2)) + (T_{1,0}*\\dot{m}_1*c_p,1 + T_{2,l}*\\dot{m}_2*c_p,2*exp(A*U*(\\dot{m}_1*c_p,1 + \\dot{m}_2*c_p,2)/(\\dot{m}_1*\\dot{m}_2*c_p,1*c_p,2)))*exp(A*U*x*(\\dot{m}_1*c_p,1 + \\dot{m}_2*c_p,2)/(\\dot{m}_1*\\dot{m}_2*c_p,1*c_p,2*l)))*exp(-A*U*x*(\\dot{m}_1*c_p,1 + \\dot{m}_2*c_p,2)/(\\dot{m}_1*\\dot{m}_2*c_p,1*c_p,2*l))/(\\dot{m}_1*c_p,1 + \\dot{m}_2*c_p,2*exp(A*U/(\\dot{m}_2*c_p,2) + A*U/(\\dot{m}_1*c_p,1)))**2)"
      ]
     },
     "metadata": {},
     "output_type": "display_data"
    },
    {
     "data": {
      "text/latex": [
       "$\\displaystyle T_{2}{\\left(x \\right)} = \\frac{\\left(\\dot{m}_1 c_{p,1} + \\dot{m}_2 c_{p,2} e^{\\frac{A U \\left(\\dot{m}_1 c_{p,1} + \\dot{m}_2 c_{p,2}\\right)}{\\dot{m}_1 \\dot{m}_2 c_{p,1} c_{p,2}}}\\right) \\left(\\dot{m}_1 c_{p,1} \\left(- T_{1,0} + T_{2,l}\\right) e^{\\frac{A U \\left(\\dot{m}_1 c_{p,1} + \\dot{m}_2 c_{p,2}\\right)}{\\dot{m}_1 \\dot{m}_2 c_{p,1} c_{p,2}}} + \\left(T_{1,0} \\dot{m}_1 c_{p,1} + T_{2,l} \\dot{m}_2 c_{p,2} e^{\\frac{A U \\left(\\dot{m}_1 c_{p,1} + \\dot{m}_2 c_{p,2}\\right)}{\\dot{m}_1 \\dot{m}_2 c_{p,1} c_{p,2}}}\\right) e^{\\frac{A U x \\left(\\dot{m}_1 c_{p,1} + \\dot{m}_2 c_{p,2}\\right)}{\\dot{m}_1 \\dot{m}_2 c_{p,1} c_{p,2} l}}\\right) e^{- \\frac{A U x \\left(\\dot{m}_1 c_{p,1} + \\dot{m}_2 c_{p,2}\\right)}{\\dot{m}_1 \\dot{m}_2 c_{p,1} c_{p,2} l}}}{\\left(\\dot{m}_1 c_{p,1} + \\dot{m}_2 c_{p,2} e^{\\frac{A U}{\\dot{m}_2 c_{p,2}} + \\frac{A U}{\\dot{m}_1 c_{p,1}}}\\right)^{2}}$"
      ],
      "text/plain": [
       "Eq(T_2(x), (\\dot{m}_1*c_p,1 + \\dot{m}_2*c_p,2*exp(A*U*(\\dot{m}_1*c_p,1 + \\dot{m}_2*c_p,2)/(\\dot{m}_1*\\dot{m}_2*c_p,1*c_p,2)))*(\\dot{m}_1*c_p,1*(-T_{1,0} + T_{2,l})*exp(A*U*(\\dot{m}_1*c_p,1 + \\dot{m}_2*c_p,2)/(\\dot{m}_1*\\dot{m}_2*c_p,1*c_p,2)) + (T_{1,0}*\\dot{m}_1*c_p,1 + T_{2,l}*\\dot{m}_2*c_p,2*exp(A*U*(\\dot{m}_1*c_p,1 + \\dot{m}_2*c_p,2)/(\\dot{m}_1*\\dot{m}_2*c_p,1*c_p,2)))*exp(A*U*x*(\\dot{m}_1*c_p,1 + \\dot{m}_2*c_p,2)/(\\dot{m}_1*\\dot{m}_2*c_p,1*c_p,2*l)))*exp(-A*U*x*(\\dot{m}_1*c_p,1 + \\dot{m}_2*c_p,2)/(\\dot{m}_1*\\dot{m}_2*c_p,1*c_p,2*l))/(\\dot{m}_1*c_p,1 + \\dot{m}_2*c_p,2*exp(A*U/(\\dot{m}_2*c_p,2) + A*U/(\\dot{m}_1*c_p,1)))**2)"
      ]
     },
     "metadata": {},
     "output_type": "display_data"
    }
   ],
   "source": [
    "T1_eq, T2_eq = sympy.dsolve(\n",
    "    [en_eq1, en_eq2],\n",
    "    [T1(x), T2(x)],\n",
    "    ics={bc1_eq.lhs: bc1_eq.rhs, bc2_eq.lhs: bc2_eq.rhs},\n",
    ")\n",
    "\n",
    "T1_eq = T1_eq.simplify()\n",
    "T2_eq = T2_eq.simplify()\n",
    "\n",
    "display(T1_eq, T2_eq)"
   ]
  },
  {
   "cell_type": "code",
   "execution_count": 24,
   "metadata": {},
   "outputs": [
    {
     "data": {
      "image/png": "[encoded data removed]",
      "text/plain": [
       "<Figure size 640x480 with 1 Axes>"
      ]
     },
     "metadata": {},
     "output_type": "display_data"
    },
    {
     "data": {
      "text/plain": [
       "<sympy.plotting.plot.Plot at 0x18d9f330f40>"
      ]
     },
     "execution_count": 24,
     "metadata": {},
     "output_type": "execute_result"
    }
   ],
   "source": [
    "subs={m1: 1.5*0.16, m2: -0.16, cp1: 4184, cp2: 4184, l: 20, A: 5, U: 500, T10: 60, T2l: 90}\n",
    "\n",
    "sympy.plot(T1_eq.rhs.subs(subs), T2_eq.rhs.subs(subs), (x, 0, subs[l]))"
   ]
  },
  {
   "attachments": {},
   "cell_type": "markdown",
   "metadata": {},
   "source": [
    "Solve the energy equations for $\\mathrm{d}T_1$ and $\\mathrm{d}T_2$, respectively:"
   ]
  },
  {
   "cell_type": "code",
   "execution_count": 6,
   "metadata": {},
   "outputs": [
    {
     "data": {
      "text/latex": [
       "$\\displaystyle \\frac{d}{d x} T_{1}{\\left(x \\right)} = \\frac{A U \\left(- T_{1}{\\left(x \\right)} + T_{2}{\\left(x \\right)}\\right)}{\\dot{m}_1 c_{p,1} l}$"
      ],
      "text/plain": [
       "Eq(Derivative(T_1(x), x), A*U*(-T_1(x) + T_2(x))/(\\dot{m}_1*c_p,1*l))"
      ]
     },
     "metadata": {},
     "output_type": "display_data"
    },
    {
     "data": {
      "text/latex": [
       "$\\displaystyle \\frac{d}{d x} T_{2}{\\left(x \\right)} = \\frac{A U \\left(T_{1}{\\left(x \\right)} - T_{2}{\\left(x \\right)}\\right)}{\\dot{m}_2 c_{p,2} l}$"
      ],
      "text/plain": [
       "Eq(Derivative(T_2(x), x), A*U*(T_1(x) - T_2(x))/(\\dot{m}_2*c_p,2*l))"
      ]
     },
     "metadata": {},
     "output_type": "display_data"
    }
   ],
   "source": [
    "dT1_sol = sympy.solve(en_eq1, dT1)[0]\n",
    "dT2_sol = sympy.solve(en_eq2, dT2)[0]\n",
    "\n",
    "dT1_eq = sympy.Eq(dT1, dT1_sol)\n",
    "dT2_eq = sympy.Eq(dT2, dT2_sol)\n",
    "\n",
    "display(dT1_eq, dT2_eq)"
   ]
  },
  {
   "attachments": {},
   "cell_type": "markdown",
   "metadata": {},
   "source": [
    "We have $\\frac{\\mathrm{d} T_2}{\\mathrm{d} x} - \\frac{\\mathrm{d} T_1}{\\mathrm{d} x} = \\frac{\\mathrm{d}(T_2-T_1)}{\\mathrm{d} x} = \\frac{\\mathrm{d} \\Delta T}{\\mathrm{d} x}$"
   ]
  },
  {
   "cell_type": "code",
   "execution_count": 7,
   "metadata": {},
   "outputs": [
    {
     "data": {
      "text/latex": [
       "$\\displaystyle \\frac{d}{d x} \\Delta T{\\left(x \\right)} = - \\frac{A U \\Delta T{\\left(x \\right)}}{\\dot{m}_2 c_{p,2} l} - \\frac{A U \\Delta T{\\left(x \\right)}}{\\dot{m}_1 c_{p,1} l}$"
      ],
      "text/plain": [
       "Eq(Derivative(\\Delta T(x), x), -A*U*\\Delta T(x)/(\\dot{m}_2*c_p,2*l) - A*U*\\Delta T(x)/(\\dot{m}_1*c_p,1*l))"
      ]
     },
     "execution_count": 7,
     "metadata": {},
     "output_type": "execute_result"
    }
   ],
   "source": [
    "dDT_sol = (dT2_sol - dT1_sol).subs({T2(x)-T1(x): DT(x)})\n",
    "dDT_eq = sympy.Eq(dDT, dDT_sol)\n",
    "dDT_eq"
   ]
  },
  {
   "attachments": {},
   "cell_type": "markdown",
   "metadata": {},
   "source": [
    "Let's solve this ODE."
   ]
  },
  {
   "cell_type": "code",
   "execution_count": 8,
   "metadata": {},
   "outputs": [
    {
     "data": {
      "text/latex": [
       "$\\displaystyle \\Delta T{\\left(x \\right)} = C_{1} e^{- \\frac{A U x \\left(\\frac{1}{\\dot{m}_2 c_{p,2}} + \\frac{1}{\\dot{m}_1 c_{p,1}}\\right)}{l}}$"
      ],
      "text/plain": [
       "Eq(\\Delta T(x), C1*exp(-A*U*x*(1/(\\dot{m}_2*c_p,2) + 1/(\\dot{m}_1*c_p,1))/l))"
      ]
     },
     "execution_count": 8,
     "metadata": {},
     "output_type": "execute_result"
    }
   ],
   "source": [
    "DT_eq = sympy.dsolve(dDT_eq)\n",
    "DT_eq"
   ]
  },
  {
   "attachments": {},
   "cell_type": "markdown",
   "metadata": {},
   "source": [
    "Let's subsitute for $\\Delta T$ in the energy balance equation for $T_1$:"
   ]
  },
  {
   "cell_type": "code",
   "execution_count": 9,
   "metadata": {},
   "outputs": [
    {
     "data": {
      "text/latex": [
       "$\\displaystyle \\dot{m}_1 c_{p,1} \\frac{d}{d x} T_{1}{\\left(x \\right)} = \\frac{A C_{1} U e^{- \\frac{A U x \\left(\\frac{1}{\\dot{m}_2 c_{p,2}} + \\frac{1}{\\dot{m}_1 c_{p,1}}\\right)}{l}}}{l}$"
      ],
      "text/plain": [
       "Eq(\\dot{m}_1*c_p,1*Derivative(T_1(x), x), A*C1*U*exp(-A*U*x*(1/(\\dot{m}_2*c_p,2) + 1/(\\dot{m}_1*c_p,1))/l)/l)"
      ]
     },
     "execution_count": 9,
     "metadata": {},
     "output_type": "execute_result"
    }
   ],
   "source": [
    "dT1_eq2 = en_eq1.subs({T2(x)-T1(x): DT_eq.rhs})\n",
    "dT1_eq2"
   ]
  },
  {
   "attachments": {},
   "cell_type": "markdown",
   "metadata": {},
   "source": [
    "Okay, let's solve this ODE for $T_1$ to get the general solution:"
   ]
  },
  {
   "cell_type": "code",
   "execution_count": 10,
   "metadata": {},
   "outputs": [
    {
     "data": {
      "text/latex": [
       "$\\displaystyle T_{1}{\\left(x \\right)} = - \\frac{C_{1} \\dot{m}_2 c_{p,2} e^{- \\frac{A U x \\left(\\frac{1}{\\dot{m}_2 c_{p,2}} + \\frac{1}{\\dot{m}_1 c_{p,1}}\\right)}{l}}}{\\dot{m}_1 c_{p,1} + \\dot{m}_2 c_{p,2}} + C_{2}$"
      ],
      "text/plain": [
       "Eq(T_1(x), -C1*\\dot{m}_2*c_p,2*exp(-A*U*x*(1/(\\dot{m}_2*c_p,2) + 1/(\\dot{m}_1*c_p,1))/l)/(\\dot{m}_1*c_p,1 + \\dot{m}_2*c_p,2) + C2)"
      ]
     },
     "execution_count": 10,
     "metadata": {},
     "output_type": "execute_result"
    }
   ],
   "source": [
    "T1_gen_sol = sympy.dsolve(dT1_eq2)\n",
    "T1_gen_sol"
   ]
  },
  {
   "attachments": {},
   "cell_type": "markdown",
   "metadata": {},
   "source": [
    "Let's substitue the general solution into the boundary condition $T_1(0) = T_{1,0}$ ..."
   ]
  },
  {
   "cell_type": "code",
   "execution_count": 11,
   "metadata": {},
   "outputs": [
    {
     "data": {
      "text/latex": [
       "$\\displaystyle - \\frac{C_{1} \\dot{m}_2 c_{p,2}}{\\dot{m}_1 c_{p,1} + \\dot{m}_2 c_{p,2}} + C_{2} = T_{1,0}$"
      ],
      "text/plain": [
       "Eq(-C1*\\dot{m}_2*c_p,2/(\\dot{m}_1*c_p,1 + \\dot{m}_2*c_p,2) + C2, T_{1,0})"
      ]
     },
     "execution_count": 11,
     "metadata": {},
     "output_type": "execute_result"
    }
   ],
   "source": [
    "cs1_eq = bc1_eq.subs({T1(0): T1_gen_sol.rhs.subs({x: 0})})\n",
    "cs1_eq"
   ]
  },
  {
   "attachments": {},
   "cell_type": "markdown",
   "metadata": {},
   "source": [
    "...and solve for $C_2$"
   ]
  },
  {
   "cell_type": "code",
   "execution_count": 12,
   "metadata": {},
   "outputs": [
    {
     "data": {
      "text/latex": [
       "$\\displaystyle C_{2} = \\frac{C_{1} \\dot{m}_2 c_{p,2} + T_{1,0} \\dot{m}_1 c_{p,1} + T_{1,0} \\dot{m}_2 c_{p,2}}{\\dot{m}_1 c_{p,1} + \\dot{m}_2 c_{p,2}}$"
      ],
      "text/plain": [
       "Eq(C2, (C1*\\dot{m}_2*c_p,2 + T_{1,0}*\\dot{m}_1*c_p,1 + T_{1,0}*\\dot{m}_2*c_p,2)/(\\dot{m}_1*c_p,1 + \\dot{m}_2*c_p,2))"
      ]
     },
     "execution_count": 12,
     "metadata": {},
     "output_type": "execute_result"
    }
   ],
   "source": [
    "C2 = sympy.symbols(\"C2\")\n",
    "\n",
    "cs12_sol = sympy.solve(cs1_eq, C2)[0].simplify()\n",
    "cs12_eq = sympy.Eq(C2, cs12_sol)\n",
    "cs12_eq"
   ]
  },
  {
   "attachments": {},
   "cell_type": "markdown",
   "metadata": {},
   "source": [
    "Finally, we can subsitute $C_2$ into the general solution to find the particular solution for $T_1$"
   ]
  },
  {
   "cell_type": "code",
   "execution_count": 13,
   "metadata": {},
   "outputs": [
    {
     "data": {
      "text/latex": [
       "$\\displaystyle T_{1}{\\left(x \\right)} = \\frac{\\left(- C_{1} \\dot{m}_2 c_{p,2} + \\left(C_{1} \\dot{m}_2 c_{p,2} + T_{1,0} \\dot{m}_1 c_{p,1} + T_{1,0} \\dot{m}_2 c_{p,2}\\right) e^{\\frac{A U x \\left(\\dot{m}_1 c_{p,1} + \\dot{m}_2 c_{p,2}\\right)}{\\dot{m}_1 \\dot{m}_2 c_{p,1} c_{p,2} l}}\\right) e^{- \\frac{A U x \\left(\\dot{m}_1 c_{p,1} + \\dot{m}_2 c_{p,2}\\right)}{\\dot{m}_1 \\dot{m}_2 c_{p,1} c_{p,2} l}}}{\\dot{m}_1 c_{p,1} + \\dot{m}_2 c_{p,2}}$"
      ],
      "text/plain": [
       "Eq(T_1(x), (-C1*\\dot{m}_2*c_p,2 + (C1*\\dot{m}_2*c_p,2 + T_{1,0}*\\dot{m}_1*c_p,1 + T_{1,0}*\\dot{m}_2*c_p,2)*exp(A*U*x*(\\dot{m}_1*c_p,1 + \\dot{m}_2*c_p,2)/(\\dot{m}_1*\\dot{m}_2*c_p,1*c_p,2*l)))*exp(-A*U*x*(\\dot{m}_1*c_p,1 + \\dot{m}_2*c_p,2)/(\\dot{m}_1*\\dot{m}_2*c_p,1*c_p,2*l))/(\\dot{m}_1*c_p,1 + \\dot{m}_2*c_p,2))"
      ]
     },
     "execution_count": 13,
     "metadata": {},
     "output_type": "execute_result"
    }
   ],
   "source": [
    "T1_part_sol = T1_gen_sol.subs({C2: cs12_sol}).simplify()\n",
    "T1_part_sol"
   ]
  },
  {
   "attachments": {},
   "cell_type": "markdown",
   "metadata": {},
   "source": [
    "Furthermore we have $\\Delta T(l) = T_2(l) - T_1(l)$. We can use that to solve for $C_1$."
   ]
  },
  {
   "cell_type": "code",
   "execution_count": 14,
   "metadata": {},
   "outputs": [
    {
     "data": {
      "text/latex": [
       "$\\displaystyle C_{1} e^{- A U \\left(\\frac{1}{\\dot{m}_2 c_{p,2}} + \\frac{1}{\\dot{m}_1 c_{p,1}}\\right)} = T_{2,l} - \\frac{\\left(- C_{1} \\dot{m}_2 c_{p,2} + \\left(C_{1} \\dot{m}_2 c_{p,2} + T_{1,0} \\dot{m}_1 c_{p,1} + T_{1,0} \\dot{m}_2 c_{p,2}\\right) e^{\\frac{A U \\left(\\dot{m}_1 c_{p,1} + \\dot{m}_2 c_{p,2}\\right)}{\\dot{m}_1 \\dot{m}_2 c_{p,1} c_{p,2}}}\\right) e^{- \\frac{A U \\left(\\dot{m}_1 c_{p,1} + \\dot{m}_2 c_{p,2}\\right)}{\\dot{m}_1 \\dot{m}_2 c_{p,1} c_{p,2}}}}{\\dot{m}_1 c_{p,1} + \\dot{m}_2 c_{p,2}}$"
      ],
      "text/plain": [
       "Eq(C1*exp(-A*U*(1/(\\dot{m}_2*c_p,2) + 1/(\\dot{m}_1*c_p,1))), T_{2,l} - (-C1*\\dot{m}_2*c_p,2 + (C1*\\dot{m}_2*c_p,2 + T_{1,0}*\\dot{m}_1*c_p,1 + T_{1,0}*\\dot{m}_2*c_p,2)*exp(A*U*(\\dot{m}_1*c_p,1 + \\dot{m}_2*c_p,2)/(\\dot{m}_1*\\dot{m}_2*c_p,1*c_p,2)))*exp(-A*U*(\\dot{m}_1*c_p,1 + \\dot{m}_2*c_p,2)/(\\dot{m}_1*\\dot{m}_2*c_p,1*c_p,2))/(\\dot{m}_1*c_p,1 + \\dot{m}_2*c_p,2))"
      ]
     },
     "metadata": {},
     "output_type": "display_data"
    },
    {
     "data": {
      "text/latex": [
       "$\\displaystyle \\frac{\\left(- T_{1,0} \\dot{m}_1 c_{p,1} - T_{1,0} \\dot{m}_2 c_{p,2} + T_{2,l} \\dot{m}_1 c_{p,1} + T_{2,l} \\dot{m}_2 c_{p,2}\\right) e^{\\frac{A U}{\\dot{m}_2 c_{p,2}} + \\frac{A U}{\\dot{m}_1 c_{p,1}}}}{\\dot{m}_1 c_{p,1} + \\dot{m}_2 c_{p,2} e^{\\frac{A U}{\\dot{m}_2 c_{p,2}} + \\frac{A U}{\\dot{m}_1 c_{p,1}}}}$"
      ],
      "text/plain": [
       "(-T_{1,0}*\\dot{m}_1*c_p,1 - T_{1,0}*\\dot{m}_2*c_p,2 + T_{2,l}*\\dot{m}_1*c_p,1 + T_{2,l}*\\dot{m}_2*c_p,2)*exp(A*U/(\\dot{m}_2*c_p,2) + A*U/(\\dot{m}_1*c_p,1))/(\\dot{m}_1*c_p,1 + \\dot{m}_2*c_p,2*exp(A*U/(\\dot{m}_2*c_p,2) + A*U/(\\dot{m}_1*c_p,1)))"
      ]
     },
     "execution_count": 14,
     "metadata": {},
     "output_type": "execute_result"
    }
   ],
   "source": [
    "C1_eq = sympy.Eq(DT_eq.rhs.subs({x: l}), T2l - T1_part_sol.rhs.subs({x: l}))\n",
    "display(C1_eq)\n",
    "\n",
    "C1 = sympy.symbols(\"C1\")\n",
    "\n",
    "C1_sol = sympy.solve(C1_eq, C1)[0].simplify()\n",
    "C1_sol"
   ]
  },
  {
   "cell_type": "code",
   "execution_count": 15,
   "metadata": {},
   "outputs": [
    {
     "data": {
      "text/latex": [
       "$\\displaystyle T_{1}{\\left(x \\right)} = \\frac{\\left(T_{1,0} \\dot{m}_1 c_{p,1} e^{\\frac{A U x \\left(\\frac{1}{\\dot{m}_2 c_{p,2}} + \\frac{1}{\\dot{m}_1 c_{p,1}}\\right)}{l}} + T_{1,0} \\dot{m}_2 c_{p,2} e^{A U \\left(\\frac{1}{\\dot{m}_2 c_{p,2}} + \\frac{1}{\\dot{m}_1 c_{p,1}}\\right)} - T_{2,l} \\dot{m}_2 c_{p,2} e^{A U \\left(\\frac{1}{\\dot{m}_2 c_{p,2}} + \\frac{1}{\\dot{m}_1 c_{p,1}}\\right)} + T_{2,l} \\dot{m}_2 c_{p,2} e^{A U \\left(\\frac{1}{\\dot{m}_2 c_{p,2}} + \\frac{x}{\\dot{m}_2 c_{p,2} l} + \\frac{1}{\\dot{m}_1 c_{p,1}} + \\frac{x}{\\dot{m}_1 c_{p,1} l}\\right)}\\right) e^{- \\frac{A U x \\left(\\frac{1}{\\dot{m}_2 c_{p,2}} + \\frac{1}{\\dot{m}_1 c_{p,1}}\\right)}{l}}}{\\dot{m}_1 c_{p,1} + \\dot{m}_2 c_{p,2} e^{\\frac{A U}{\\dot{m}_2 c_{p,2}} + \\frac{A U}{\\dot{m}_1 c_{p,1}}}}$"
      ],
      "text/plain": [
       "Eq(T_1(x), (T_{1,0}*\\dot{m}_1*c_p,1*exp(A*U*x*(1/(\\dot{m}_2*c_p,2) + 1/(\\dot{m}_1*c_p,1))/l) + T_{1,0}*\\dot{m}_2*c_p,2*exp(A*U*(1/(\\dot{m}_2*c_p,2) + 1/(\\dot{m}_1*c_p,1))) - T_{2,l}*\\dot{m}_2*c_p,2*exp(A*U*(1/(\\dot{m}_2*c_p,2) + 1/(\\dot{m}_1*c_p,1))) + T_{2,l}*\\dot{m}_2*c_p,2*exp(A*U*(1/(\\dot{m}_2*c_p,2) + x/(\\dot{m}_2*c_p,2*l) + 1/(\\dot{m}_1*c_p,1) + x/(\\dot{m}_1*c_p,1*l))))*exp(-A*U*x*(1/(\\dot{m}_2*c_p,2) + 1/(\\dot{m}_1*c_p,1))/l)/(\\dot{m}_1*c_p,1 + \\dot{m}_2*c_p,2*exp(A*U/(\\dot{m}_2*c_p,2) + A*U/(\\dot{m}_1*c_p,1))))"
      ]
     },
     "execution_count": 15,
     "metadata": {},
     "output_type": "execute_result"
    }
   ],
   "source": [
    "T1_part_sol2 = T1_part_sol.subs({C1: C1_sol}).simplify()\n",
    "T1_part_sol2"
   ]
  },
  {
   "attachments": {},
   "cell_type": "markdown",
   "metadata": {},
   "source": [
    "Let's do all of that again in one go for $T_2$:"
   ]
  },
  {
   "cell_type": "code",
   "execution_count": 16,
   "metadata": {},
   "outputs": [
    {
     "data": {
      "text/latex": [
       "$\\displaystyle T_{2}{\\left(x \\right)} = \\frac{\\left(- T_{1,0} \\dot{m}_1 c_{p,1} e^{A U \\left(\\frac{1}{\\dot{m}_2 c_{p,2}} + \\frac{1}{\\dot{m}_1 c_{p,1}}\\right)} + T_{1,0} \\dot{m}_1 c_{p,1} e^{\\frac{A U x \\left(\\frac{1}{\\dot{m}_2 c_{p,2}} + \\frac{1}{\\dot{m}_1 c_{p,1}}\\right)}{l}} + T_{2,l} \\dot{m}_1 c_{p,1} e^{A U \\left(\\frac{1}{\\dot{m}_2 c_{p,2}} + \\frac{1}{\\dot{m}_1 c_{p,1}}\\right)} + T_{2,l} \\dot{m}_2 c_{p,2} e^{A U \\left(\\frac{1}{\\dot{m}_2 c_{p,2}} + \\frac{x}{\\dot{m}_2 c_{p,2} l} + \\frac{1}{\\dot{m}_1 c_{p,1}} + \\frac{x}{\\dot{m}_1 c_{p,1} l}\\right)}\\right) e^{- \\frac{A U x \\left(\\frac{1}{\\dot{m}_2 c_{p,2}} + \\frac{1}{\\dot{m}_1 c_{p,1}}\\right)}{l}}}{\\dot{m}_1 c_{p,1} + \\dot{m}_2 c_{p,2} e^{\\frac{A U}{\\dot{m}_2 c_{p,2}} + \\frac{A U}{\\dot{m}_1 c_{p,1}}}}$"
      ],
      "text/plain": [
       "Eq(T_2(x), (-T_{1,0}*\\dot{m}_1*c_p,1*exp(A*U*(1/(\\dot{m}_2*c_p,2) + 1/(\\dot{m}_1*c_p,1))) + T_{1,0}*\\dot{m}_1*c_p,1*exp(A*U*x*(1/(\\dot{m}_2*c_p,2) + 1/(\\dot{m}_1*c_p,1))/l) + T_{2,l}*\\dot{m}_1*c_p,1*exp(A*U*(1/(\\dot{m}_2*c_p,2) + 1/(\\dot{m}_1*c_p,1))) + T_{2,l}*\\dot{m}_2*c_p,2*exp(A*U*(1/(\\dot{m}_2*c_p,2) + x/(\\dot{m}_2*c_p,2*l) + 1/(\\dot{m}_1*c_p,1) + x/(\\dot{m}_1*c_p,1*l))))*exp(-A*U*x*(1/(\\dot{m}_2*c_p,2) + 1/(\\dot{m}_1*c_p,1))/l)/(\\dot{m}_1*c_p,1 + \\dot{m}_2*c_p,2*exp(A*U/(\\dot{m}_2*c_p,2) + A*U/(\\dot{m}_1*c_p,1))))"
      ]
     },
     "execution_count": 16,
     "metadata": {},
     "output_type": "execute_result"
    }
   ],
   "source": [
    "dT2_eq2 = en_eq2.subs({T2(x)-T1(x): DT_eq.rhs})\n",
    "\n",
    "T2_gen_sol = sympy.dsolve(dT2_eq2)\n",
    "\n",
    "cs2_eq = bc2_eq.subs({T2(l): T2_gen_sol.rhs.subs({x: l})})\n",
    "\n",
    "cs22_sol = sympy.solve(cs2_eq, C2)[0]\n",
    "\n",
    "T2_part_sol = T2_gen_sol.subs({C2: cs22_sol}).subs({C1: C1_sol}).simplify()\n",
    "T2_part_sol"
   ]
  },
  {
   "attachments": {},
   "cell_type": "markdown",
   "metadata": {},
   "source": [
    "So, we have:"
   ]
  },
  {
   "cell_type": "code",
   "execution_count": 17,
   "metadata": {},
   "outputs": [
    {
     "data": {
      "text/latex": [
       "$\\displaystyle T_{1}{\\left(x \\right)} = \\frac{\\left(T_{1,0} \\dot{m}_1 c_{p,1} e^{\\frac{A U x \\left(\\frac{1}{\\dot{m}_2 c_{p,2}} + \\frac{1}{\\dot{m}_1 c_{p,1}}\\right)}{l}} + T_{1,0} \\dot{m}_2 c_{p,2} e^{A U \\left(\\frac{1}{\\dot{m}_2 c_{p,2}} + \\frac{1}{\\dot{m}_1 c_{p,1}}\\right)} - T_{2,l} \\dot{m}_2 c_{p,2} e^{A U \\left(\\frac{1}{\\dot{m}_2 c_{p,2}} + \\frac{1}{\\dot{m}_1 c_{p,1}}\\right)} + T_{2,l} \\dot{m}_2 c_{p,2} e^{A U \\left(\\frac{1}{\\dot{m}_2 c_{p,2}} + \\frac{x}{\\dot{m}_2 c_{p,2} l} + \\frac{1}{\\dot{m}_1 c_{p,1}} + \\frac{x}{\\dot{m}_1 c_{p,1} l}\\right)}\\right) e^{- \\frac{A U x \\left(\\frac{1}{\\dot{m}_2 c_{p,2}} + \\frac{1}{\\dot{m}_1 c_{p,1}}\\right)}{l}}}{\\dot{m}_1 c_{p,1} + \\dot{m}_2 c_{p,2} e^{\\frac{A U}{\\dot{m}_2 c_{p,2}} + \\frac{A U}{\\dot{m}_1 c_{p,1}}}}$"
      ],
      "text/plain": [
       "Eq(T_1(x), (T_{1,0}*\\dot{m}_1*c_p,1*exp(A*U*x*(1/(\\dot{m}_2*c_p,2) + 1/(\\dot{m}_1*c_p,1))/l) + T_{1,0}*\\dot{m}_2*c_p,2*exp(A*U*(1/(\\dot{m}_2*c_p,2) + 1/(\\dot{m}_1*c_p,1))) - T_{2,l}*\\dot{m}_2*c_p,2*exp(A*U*(1/(\\dot{m}_2*c_p,2) + 1/(\\dot{m}_1*c_p,1))) + T_{2,l}*\\dot{m}_2*c_p,2*exp(A*U*(1/(\\dot{m}_2*c_p,2) + x/(\\dot{m}_2*c_p,2*l) + 1/(\\dot{m}_1*c_p,1) + x/(\\dot{m}_1*c_p,1*l))))*exp(-A*U*x*(1/(\\dot{m}_2*c_p,2) + 1/(\\dot{m}_1*c_p,1))/l)/(\\dot{m}_1*c_p,1 + \\dot{m}_2*c_p,2*exp(A*U/(\\dot{m}_2*c_p,2) + A*U/(\\dot{m}_1*c_p,1))))"
      ]
     },
     "metadata": {},
     "output_type": "display_data"
    },
    {
     "data": {
      "text/latex": [
       "$\\displaystyle T_{2}{\\left(x \\right)} = \\frac{\\left(- T_{1,0} \\dot{m}_1 c_{p,1} e^{A U \\left(\\frac{1}{\\dot{m}_2 c_{p,2}} + \\frac{1}{\\dot{m}_1 c_{p,1}}\\right)} + T_{1,0} \\dot{m}_1 c_{p,1} e^{\\frac{A U x \\left(\\frac{1}{\\dot{m}_2 c_{p,2}} + \\frac{1}{\\dot{m}_1 c_{p,1}}\\right)}{l}} + T_{2,l} \\dot{m}_1 c_{p,1} e^{A U \\left(\\frac{1}{\\dot{m}_2 c_{p,2}} + \\frac{1}{\\dot{m}_1 c_{p,1}}\\right)} + T_{2,l} \\dot{m}_2 c_{p,2} e^{A U \\left(\\frac{1}{\\dot{m}_2 c_{p,2}} + \\frac{x}{\\dot{m}_2 c_{p,2} l} + \\frac{1}{\\dot{m}_1 c_{p,1}} + \\frac{x}{\\dot{m}_1 c_{p,1} l}\\right)}\\right) e^{- \\frac{A U x \\left(\\frac{1}{\\dot{m}_2 c_{p,2}} + \\frac{1}{\\dot{m}_1 c_{p,1}}\\right)}{l}}}{\\dot{m}_1 c_{p,1} + \\dot{m}_2 c_{p,2} e^{\\frac{A U}{\\dot{m}_2 c_{p,2}} + \\frac{A U}{\\dot{m}_1 c_{p,1}}}}$"
      ],
      "text/plain": [
       "Eq(T_2(x), (-T_{1,0}*\\dot{m}_1*c_p,1*exp(A*U*(1/(\\dot{m}_2*c_p,2) + 1/(\\dot{m}_1*c_p,1))) + T_{1,0}*\\dot{m}_1*c_p,1*exp(A*U*x*(1/(\\dot{m}_2*c_p,2) + 1/(\\dot{m}_1*c_p,1))/l) + T_{2,l}*\\dot{m}_1*c_p,1*exp(A*U*(1/(\\dot{m}_2*c_p,2) + 1/(\\dot{m}_1*c_p,1))) + T_{2,l}*\\dot{m}_2*c_p,2*exp(A*U*(1/(\\dot{m}_2*c_p,2) + x/(\\dot{m}_2*c_p,2*l) + 1/(\\dot{m}_1*c_p,1) + x/(\\dot{m}_1*c_p,1*l))))*exp(-A*U*x*(1/(\\dot{m}_2*c_p,2) + 1/(\\dot{m}_1*c_p,1))/l)/(\\dot{m}_1*c_p,1 + \\dot{m}_2*c_p,2*exp(A*U/(\\dot{m}_2*c_p,2) + A*U/(\\dot{m}_1*c_p,1))))"
      ]
     },
     "metadata": {},
     "output_type": "display_data"
    }
   ],
   "source": [
    "display(T1_part_sol2, T2_part_sol)"
   ]
  },
  {
   "attachments": {},
   "cell_type": "markdown",
   "metadata": {},
   "source": [
    "Let's assume a flow velocity of 0.5m per second and a pipe radius of 0.01m. Then we have a mass flow (for water with a density of 998kg/m3) of"
   ]
  },
  {
   "cell_type": "code",
   "execution_count": 32,
   "metadata": {},
   "outputs": [
    {
     "data": {
      "image/png": "[encoded data removed]",
      "text/plain": [
       "<Figure size 640x480 with 1 Axes>"
      ]
     },
     "metadata": {},
     "output_type": "display_data"
    },
    {
     "data": {
      "text/plain": [
       "<sympy.plotting.plot.Plot at 0x2824135d6c0>"
      ]
     },
     "execution_count": 32,
     "metadata": {},
     "output_type": "execute_result"
    }
   ],
   "source": [
    "sympy.plot(\n",
    "    T1_part_sol2.rhs.subs(subs),\n",
    "    T2_part_sol.rhs.subs(subs),\n",
    "    DT_eq.rhs.subs({C1: C1_sol}).subs(subs),\n",
    "    (x, 0, subs[l]),\n",
    "    legend=False,\n",
    ")"
   ]
  },
  {
   "cell_type": "code",
   "execution_count": 39,
   "metadata": {},
   "outputs": [
    {
     "data": {
      "text/plain": [
       "60"
      ]
     },
     "metadata": {},
     "output_type": "display_data"
    },
    {
     "data": {
      "text/latex": [
       "$\\displaystyle 77.6238410244386$"
      ],
      "text/plain": [
       "77.6238410244386"
      ]
     },
     "metadata": {},
     "output_type": "display_data"
    },
    {
     "data": {
      "text/plain": [
       "90"
      ]
     },
     "metadata": {},
     "output_type": "display_data"
    },
    {
     "data": {
      "text/latex": [
       "$\\displaystyle 63.5642384633421$"
      ],
      "text/plain": [
       "63.5642384633421"
      ]
     },
     "metadata": {},
     "output_type": "display_data"
    }
   ],
   "source": [
    "display(subs[T10], T1_part_sol2.rhs.subs(subs).evalf(subs={x: 20}))\n",
    "display(subs[T2l], T2_part_sol.rhs.subs(subs).evalf(subs={x: 0}))"
   ]
  },
  {
   "cell_type": "code",
   "execution_count": 40,
   "metadata": {},
   "outputs": [
    {
     "data": {
      "text/plain": [
       "60"
      ]
     },
     "metadata": {},
     "output_type": "display_data"
    },
    {
     "data": {
      "text/latex": [
       "$\\displaystyle 89.8518584180783$"
      ],
      "text/plain": [
       "89.8518584180783"
      ]
     },
     "metadata": {},
     "output_type": "display_data"
    },
    {
     "data": {
      "text/plain": [
       "90"
      ]
     },
     "metadata": {},
     "output_type": "display_data"
    },
    {
     "data": {
      "text/latex": [
       "$\\displaystyle 134.777787627117$"
      ],
      "text/plain": [
       "134.777787627117"
      ]
     },
     "metadata": {},
     "output_type": "display_data"
    }
   ],
   "source": [
    "display(subs[T10], T1_part_sol2.rhs.subs(subs | {m2: 0.16}).evalf(subs={x: 20}))\n",
    "display(subs[T2l], T2_part_sol.rhs.subs(subs | {m2: 0.16}).evalf(subs={x: 0}))"
   ]
  },
  {
   "cell_type": "code",
   "execution_count": 27,
   "metadata": {},
   "outputs": [
    {
     "data": {
      "text/latex": [
       "$\\displaystyle \\begin{cases} \\frac{\\dot{m}_1 \\dot{m}_2 c_{p,1} c_{p,2} l \\left(- T_{1,0} e^{\\frac{A U}{\\dot{m}_2 c_{p,2}} + \\frac{A U}{\\dot{m}_1 c_{p,1}}} + T_{1,0} + T_{2,l} e^{\\frac{A U}{\\dot{m}_2 c_{p,2}} + \\frac{A U}{\\dot{m}_1 c_{p,1}}} - T_{2,l}\\right)}{\\dot{m}_1 c_{p,1} + \\dot{m}_2 c_{p,2} e^{\\frac{A U}{\\dot{m}_2 c_{p,2}} + \\frac{A U}{\\dot{m}_1 c_{p,1}}}} & \\text{for}\\: \\dot{m}_1 c_{p,1} + \\dot{m}_2 c_{p,2} e^{A U \\left(\\frac{1}{\\dot{m}_2 c_{p,2}} + \\frac{1}{\\dot{m}_1 c_{p,1}}\\right)} \\neq 0 \\\\\\frac{A U l \\left(- T_{1,0} \\dot{m}_1 c_{p,1} - T_{1,0} \\dot{m}_2 c_{p,2} + T_{2,l} \\dot{m}_1 c_{p,1} + T_{2,l} \\dot{m}_2 c_{p,2}\\right) e^{\\frac{A U}{\\dot{m}_2 c_{p,2}} + \\frac{A U}{\\dot{m}_1 c_{p,1}}}}{\\dot{m}_1 c_{p,1} + \\dot{m}_2 c_{p,2} e^{\\frac{A U}{\\dot{m}_2 c_{p,2}} + \\frac{A U}{\\dot{m}_1 c_{p,1}}}} & \\text{otherwise} \\end{cases}$"
      ],
      "text/plain": [
       "Piecewise((\\dot{m}_1*\\dot{m}_2*c_p,1*c_p,2*l*(-T_{1,0}*exp(A*U/(\\dot{m}_2*c_p,2) + A*U/(\\dot{m}_1*c_p,1)) + T_{1,0} + T_{2,l}*exp(A*U/(\\dot{m}_2*c_p,2) + A*U/(\\dot{m}_1*c_p,1)) - T_{2,l})/(\\dot{m}_1*c_p,1 + \\dot{m}_2*c_p,2*exp(A*U/(\\dot{m}_2*c_p,2) + A*U/(\\dot{m}_1*c_p,1))), Ne(\\dot{m}_1*c_p,1 + \\dot{m}_2*c_p,2*exp(A*U*(1/(\\dot{m}_2*c_p,2) + 1/(\\dot{m}_1*c_p,1))), 0)), (A*U*l*(-T_{1,0}*\\dot{m}_1*c_p,1 - T_{1,0}*\\dot{m}_2*c_p,2 + T_{2,l}*\\dot{m}_1*c_p,1 + T_{2,l}*\\dot{m}_2*c_p,2)*exp(A*U/(\\dot{m}_2*c_p,2) + A*U/(\\dot{m}_1*c_p,1))/(\\dot{m}_1*c_p,1 + \\dot{m}_2*c_p,2*exp(A*U/(\\dot{m}_2*c_p,2) + A*U/(\\dot{m}_1*c_p,1))), True))"
      ]
     },
     "execution_count": 27,
     "metadata": {},
     "output_type": "execute_result"
    }
   ],
   "source": [
    "sympy.integrate(DT_eq.rhs.subs({C1: C1_sol})*A*U, (x, 0, l)).simplify()"
   ]
  },
  {
   "attachments": {},
   "cell_type": "markdown",
   "metadata": {},
   "source": [
    "Now we can answer the question of interest. How much do the output temperatures change, if we double the mass flow of the colder fluid?"
   ]
  },
  {
   "cell_type": "code",
   "execution_count": 183,
   "metadata": {},
   "outputs": [
    {
     "data": {
      "text/latex": [
       "$\\displaystyle T_{1,l} = \\frac{T_{1,0} \\dot{m}_1 c_{p,1} e^{A U \\left(\\frac{1}{\\dot{m}_2 c_{p,2}} - \\frac{1}{\\dot{m}_1 c_{p,1}}\\right)} - T_{1,0} \\dot{m}_2 c_{p,2} e^{A U \\left(\\frac{1}{\\dot{m}_2 c_{p,2}} - \\frac{1}{\\dot{m}_1 c_{p,1}}\\right)} + T_{2,l} \\dot{m}_2 c_{p,2} e^{A U \\left(\\frac{1}{\\dot{m}_2 c_{p,2}} - \\frac{1}{\\dot{m}_1 c_{p,1}}\\right)} - T_{2,l} \\dot{m}_2 c_{p,2}}{\\dot{m}_1 c_{p,1} e^{\\frac{A U}{\\dot{m}_2 c_{p,2}} - \\frac{A U}{\\dot{m}_1 c_{p,1}}} - \\dot{m}_2 c_{p,2}}$"
      ],
      "text/plain": [
       "Eq(T_{1,l}, (T_{1,0}*\\dot{m}_1*c_p,1*exp(A*U*(1/(\\dot{m}_2*c_p,2) - 1/(\\dot{m}_1*c_p,1))) - T_{1,0}*\\dot{m}_2*c_p,2*exp(A*U*(1/(\\dot{m}_2*c_p,2) - 1/(\\dot{m}_1*c_p,1))) + T_{2,l}*\\dot{m}_2*c_p,2*exp(A*U*(1/(\\dot{m}_2*c_p,2) - 1/(\\dot{m}_1*c_p,1))) - T_{2,l}*\\dot{m}_2*c_p,2)/(\\dot{m}_1*c_p,1*exp(A*U/(\\dot{m}_2*c_p,2) - A*U/(\\dot{m}_1*c_p,1)) - \\dot{m}_2*c_p,2))"
      ]
     },
     "metadata": {},
     "output_type": "display_data"
    },
    {
     "data": {
      "text/latex": [
       "$\\displaystyle T_{2,0} = \\frac{T_{1,0} \\dot{m}_1 c_{p,1} e^{A U \\left(\\frac{1}{\\dot{m}_2 c_{p,2}} - \\frac{1}{\\dot{m}_1 c_{p,1}}\\right)} - T_{1,0} \\dot{m}_1 c_{p,1} + T_{2,l} \\dot{m}_1 c_{p,1} - T_{2,l} \\dot{m}_2 c_{p,2}}{\\dot{m}_1 c_{p,1} e^{\\frac{A U}{\\dot{m}_2 c_{p,2}} - \\frac{A U}{\\dot{m}_1 c_{p,1}}} - \\dot{m}_2 c_{p,2}}$"
      ],
      "text/plain": [
       "Eq(T_{2,0}, (T_{1,0}*\\dot{m}_1*c_p,1*exp(A*U*(1/(\\dot{m}_2*c_p,2) - 1/(\\dot{m}_1*c_p,1))) - T_{1,0}*\\dot{m}_1*c_p,1 + T_{2,l}*\\dot{m}_1*c_p,1 - T_{2,l}*\\dot{m}_2*c_p,2)/(\\dot{m}_1*c_p,1*exp(A*U/(\\dot{m}_2*c_p,2) - A*U/(\\dot{m}_1*c_p,1)) - \\dot{m}_2*c_p,2))"
      ]
     },
     "metadata": {},
     "output_type": "display_data"
    }
   ],
   "source": [
    "T1l_sol = T1_part_sol2.rhs.subs({x: l})\n",
    "T20_sol = T2_part_sol.rhs.subs({x: 0})\n",
    "\n",
    "T1l, T20 = sympy.symbols(r\"T_{1\\,l} T_{2\\,0}\")\n",
    "\n",
    "T1l_eq = sympy.Eq(T1l, T1l_sol)\n",
    "T20_eq = sympy.Eq(T20, T20_sol)\n",
    "\n",
    "display(T1l_eq, T20_eq)"
   ]
  },
  {
   "cell_type": "code",
   "execution_count": 184,
   "metadata": {},
   "outputs": [
    {
     "data": {
      "text/latex": [
       "$\\displaystyle T_{1,l}^\\prime = \\frac{T_{1,0} \\dot{m}_1 c_{p,1} f e^{A U \\left(\\frac{1}{\\dot{m}_2 c_{p,2}} - \\frac{1}{\\dot{m}_1 c_{p,1} f}\\right)} - T_{1,0} \\dot{m}_2 c_{p,2} e^{A U \\left(\\frac{1}{\\dot{m}_2 c_{p,2}} - \\frac{1}{\\dot{m}_1 c_{p,1} f}\\right)} + T_{2,l} \\dot{m}_2 c_{p,2} e^{A U \\left(\\frac{1}{\\dot{m}_2 c_{p,2}} - \\frac{1}{\\dot{m}_1 c_{p,1} f}\\right)} - T_{2,l} \\dot{m}_2 c_{p,2}}{\\dot{m}_1 c_{p,1} f e^{\\frac{A U}{\\dot{m}_2 c_{p,2}} - \\frac{A U}{\\dot{m}_1 c_{p,1} f}} - \\dot{m}_2 c_{p,2}}$"
      ],
      "text/plain": [
       "Eq(T_{1,l}^\\prime, (T_{1,0}*\\dot{m}_1*c_p,1*f*exp(A*U*(1/(\\dot{m}_2*c_p,2) - 1/(\\dot{m}_1*c_p,1*f))) - T_{1,0}*\\dot{m}_2*c_p,2*exp(A*U*(1/(\\dot{m}_2*c_p,2) - 1/(\\dot{m}_1*c_p,1*f))) + T_{2,l}*\\dot{m}_2*c_p,2*exp(A*U*(1/(\\dot{m}_2*c_p,2) - 1/(\\dot{m}_1*c_p,1*f))) - T_{2,l}*\\dot{m}_2*c_p,2)/(\\dot{m}_1*c_p,1*f*exp(A*U/(\\dot{m}_2*c_p,2) - A*U/(\\dot{m}_1*c_p,1*f)) - \\dot{m}_2*c_p,2))"
      ]
     },
     "metadata": {},
     "output_type": "display_data"
    },
    {
     "data": {
      "text/latex": [
       "$\\displaystyle T_{2,0}^\\prime = \\frac{T_{1,0} \\dot{m}_1 c_{p,1} f e^{A U \\left(\\frac{1}{\\dot{m}_2 c_{p,2}} - \\frac{1}{\\dot{m}_1 c_{p,1} f}\\right)} - T_{1,0} \\dot{m}_1 c_{p,1} f + T_{2,l} \\dot{m}_1 c_{p,1} f - T_{2,l} \\dot{m}_2 c_{p,2}}{\\dot{m}_1 c_{p,1} f e^{\\frac{A U}{\\dot{m}_2 c_{p,2}} - \\frac{A U}{\\dot{m}_1 c_{p,1} f}} - \\dot{m}_2 c_{p,2}}$"
      ],
      "text/plain": [
       "Eq(T_{2,0}^\\prime, (T_{1,0}*\\dot{m}_1*c_p,1*f*exp(A*U*(1/(\\dot{m}_2*c_p,2) - 1/(\\dot{m}_1*c_p,1*f))) - T_{1,0}*\\dot{m}_1*c_p,1*f + T_{2,l}*\\dot{m}_1*c_p,1*f - T_{2,l}*\\dot{m}_2*c_p,2)/(\\dot{m}_1*c_p,1*f*exp(A*U/(\\dot{m}_2*c_p,2) - A*U/(\\dot{m}_1*c_p,1*f)) - \\dot{m}_2*c_p,2))"
      ]
     },
     "metadata": {},
     "output_type": "display_data"
    }
   ],
   "source": [
    "# The multiplication factor for m1\n",
    "f = sympy.symbols(\"f\")\n",
    "\n",
    "T1lp_sol = T1l_sol.subs({m1: f*m1})\n",
    "T20p_sol = T20_sol.subs({m1: f*m1})\n",
    "\n",
    "T1lp, T20p = sympy.symbols(r\"T_{1\\,l}^\\prime T_{2\\,0}^\\prime\")\n",
    "\n",
    "T1lp_eq = sympy.Eq(T1lp, T1lp_sol)\n",
    "T20p_eq = sympy.Eq(T20p, T20p_sol)\n",
    "\n",
    "display(T1lp_eq, T20p_eq)"
   ]
  },
  {
   "cell_type": "code",
   "execution_count": 185,
   "metadata": {},
   "outputs": [
    {
     "data": {
      "text/latex": [
       "$\\displaystyle T_{1,l}^\\prime = \\frac{84853.2463653586 f e^{- \\frac{1.49229355730312}{f}} - 120499.2 + 84768.4778874711 e^{- \\frac{1.49229355730312}{f}}}{1414.22077275598 f e^{- \\frac{1.49229355730312}{f}} - 1338.88}$"
      ],
      "text/plain": [
       "Eq(T_{1,l}^\\prime, (84853.2463653586*f*exp(-1.49229355730312/f) - 120499.2 + 84768.4778874711*exp(-1.49229355730312/f))/(1414.22077275598*f*exp(-1.49229355730312/f) - 1338.88))"
      ]
     },
     "metadata": {},
     "output_type": "display_data"
    },
    {
     "data": {
      "text/latex": [
       "$\\displaystyle T_{2,0}^\\prime = \\frac{20103.2832 f + 84853.2463653586 f e^{- \\frac{1.49229355730312}{f}} - 120499.2}{1414.22077275598 f e^{- \\frac{1.49229355730312}{f}} - 1338.88}$"
      ],
      "text/plain": [
       "Eq(T_{2,0}^\\prime, (20103.2832*f + 84853.2463653586*f*exp(-1.49229355730312/f) - 120499.2)/(1414.22077275598*f*exp(-1.49229355730312/f) - 1338.88))"
      ]
     },
     "metadata": {},
     "output_type": "display_data"
    }
   ],
   "source": [
    "T1lp_ones_sol = T1lp_sol.subs(subs)\n",
    "T20p_ones_sol = T20p_sol.subs(subs)\n",
    "\n",
    "T1lp_ones_eq = sympy.Eq(T1lp, T1lp_ones_sol)\n",
    "T20p_ones_eq = sympy.Eq(T20p, T20p_ones_sol)\n",
    "\n",
    "display(T1lp_ones_eq, T20p_ones_eq)"
   ]
  },
  {
   "cell_type": "code",
   "execution_count": 186,
   "metadata": {},
   "outputs": [
    {
     "data": {
      "image/png": "[encoded data removed]",
      "text/plain": [
       "<Figure size 640x480 with 1 Axes>"
      ]
     },
     "metadata": {},
     "output_type": "display_data"
    },
    {
     "data": {
      "text/plain": [
       "<sympy.plotting.plot.Plot at 0x1d545c1da20>"
      ]
     },
     "execution_count": 186,
     "metadata": {},
     "output_type": "execute_result"
    }
   ],
   "source": [
    "sympy.plot(T1lp_ones_sol, T20p_ones_sol, (f, 1, 5), legend=True)"
   ]
  },
  {
   "cell_type": "code",
   "execution_count": null,
   "metadata": {},
   "outputs": [],
   "source": []
  }
 ],
 "metadata": {
  "kernelspec": {
   "display_name": "venv",
   "language": "python",
   "name": "python3"
  },
  "language_info": {
   "codemirror_mode": {
    "name": "ipython",
    "version": 3
   },
   "file_extension": ".py",
   "mimetype": "text/x-python",
   "name": "python",
   "nbconvert_exporter": "python",
   "pygments_lexer": "ipython3",
   "version": "3.10.5"
  },
  "orig_nbformat": 4
 },
 "nbformat": 4,
 "nbformat_minor": 2
}
